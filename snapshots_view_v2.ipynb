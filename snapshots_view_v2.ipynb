{
 "cells": [
  {
   "cell_type": "code",
   "execution_count": 1,
   "metadata": {
    "collapsed": true
   },
   "outputs": [],
   "source": [
    "import pandas as pd\n",
    "import numpy as np\n",
    "import matplotlib.pyplot as plt\n",
    "import re\n",
    "import json\n",
    "import os\n",
    "from IPython.core.display import display\n",
    "from pandas.io.json import json_normalize "
   ]
  },
  {
   "cell_type": "code",
   "execution_count": 2,
   "metadata": {},
   "outputs": [],
   "source": [
    "path = \"/home/mateos/snapshots\"\n",
    "files = sorted(os.listdir(path))\n",
    "must_skip = 1\n",
    "obj_all = []\n",
    "for f in files:\n",
    "    m = re.search(r'^log_\\d{8}_\\d{4}$', f)\n",
    "    if not m:\n",
    "        continue\n",
    "    with open(path + '/' + f , 'r') as fp:\n",
    "        json_str = fp.read()\n",
    "        if json_str == '':\n",
    "            continue\n",
    "        obj = json.loads(json_str)\n",
    "        obj_all += [obj]\n",
    "\n",
    "#data = pd.DataFrame.from_dict(obj_all, orient='columns')\n",
    "data = pd.DataFrame.from_dict(obj_all)"
   ]
  },
  {
   "cell_type": "code",
   "execution_count": 3,
   "metadata": {},
   "outputs": [
    {
     "data": {
      "text/html": [
       "<div>\n",
       "<style scoped>\n",
       "    .dataframe tbody tr th:only-of-type {\n",
       "        vertical-align: middle;\n",
       "    }\n",
       "\n",
       "    .dataframe tbody tr th {\n",
       "        vertical-align: top;\n",
       "    }\n",
       "\n",
       "    .dataframe thead th {\n",
       "        text-align: right;\n",
       "    }\n",
       "</style>\n",
       "<table border=\"1\" class=\"dataframe\">\n",
       "  <thead>\n",
       "    <tr style=\"text-align: right;\">\n",
       "      <th></th>\n",
       "      <th>cpu</th>\n",
       "      <th>date</th>\n",
       "      <th>load</th>\n",
       "      <th>n_proc</th>\n",
       "      <th>queries</th>\n",
       "      <th>top_proc</th>\n",
       "    </tr>\n",
       "  </thead>\n",
       "  <tbody>\n",
       "    <tr>\n",
       "      <th>0</th>\n",
       "      <td>2.79256</td>\n",
       "      <td>2019-07-03 15:50:01</td>\n",
       "      <td>0.20 0.05 0.02 1/302 3250</td>\n",
       "      <td>165</td>\n",
       "      <td>[]</td>\n",
       "      <td>[{'pid': '61', 'cpu': '2.0', 'command': '[kswa...</td>\n",
       "    </tr>\n",
       "    <tr>\n",
       "      <th>1</th>\n",
       "      <td>2.77177</td>\n",
       "      <td>2019-07-03 16:00:02</td>\n",
       "      <td>0.00 0.00 0.00 1/303 3352</td>\n",
       "      <td>166</td>\n",
       "      <td>[]</td>\n",
       "      <td>[{'pid': '61', 'cpu': '1.9', 'command': '[kswa...</td>\n",
       "    </tr>\n",
       "    <tr>\n",
       "      <th>2</th>\n",
       "      <td>2.75171</td>\n",
       "      <td>2019-07-03 16:10:01</td>\n",
       "      <td>0.00 0.01 0.00 1/296 3573</td>\n",
       "      <td>162</td>\n",
       "      <td>[]</td>\n",
       "      <td>[{'pid': '30978', 'cpu': '9.6', 'command': 'py...</td>\n",
       "    </tr>\n",
       "    <tr>\n",
       "      <th>3</th>\n",
       "      <td>2.73062</td>\n",
       "      <td>2019-07-03 16:20:01</td>\n",
       "      <td>0.00 0.00 0.00 1/298 3694</td>\n",
       "      <td>164</td>\n",
       "      <td>[]</td>\n",
       "      <td>[{'pid': '30978', 'cpu': '9.1', 'command': 'py...</td>\n",
       "    </tr>\n",
       "    <tr>\n",
       "      <th>4</th>\n",
       "      <td>2.71096</td>\n",
       "      <td>2019-07-03 16:30:01</td>\n",
       "      <td>0.03 0.03 0.00 1/298 3801</td>\n",
       "      <td>164</td>\n",
       "      <td>[]</td>\n",
       "      <td>[{'pid': '30978', 'cpu': '8.6', 'command': 'py...</td>\n",
       "    </tr>\n",
       "  </tbody>\n",
       "</table>\n",
       "</div>"
      ],
      "text/plain": [
       "       cpu                date                       load n_proc queries  \\\n",
       "0  2.79256 2019-07-03 15:50:01  0.20 0.05 0.02 1/302 3250    165      []   \n",
       "1  2.77177 2019-07-03 16:00:02  0.00 0.00 0.00 1/303 3352    166      []   \n",
       "2  2.75171 2019-07-03 16:10:01  0.00 0.01 0.00 1/296 3573    162      []   \n",
       "3  2.73062 2019-07-03 16:20:01  0.00 0.00 0.00 1/298 3694    164      []   \n",
       "4  2.71096 2019-07-03 16:30:01  0.03 0.03 0.00 1/298 3801    164      []   \n",
       "\n",
       "                                            top_proc  \n",
       "0  [{'pid': '61', 'cpu': '2.0', 'command': '[kswa...  \n",
       "1  [{'pid': '61', 'cpu': '1.9', 'command': '[kswa...  \n",
       "2  [{'pid': '30978', 'cpu': '9.6', 'command': 'py...  \n",
       "3  [{'pid': '30978', 'cpu': '9.1', 'command': 'py...  \n",
       "4  [{'pid': '30978', 'cpu': '8.6', 'command': 'py...  "
      ]
     },
     "execution_count": 3,
     "metadata": {},
     "output_type": "execute_result"
    }
   ],
   "source": [
    "data['date'] = pd.to_datetime(data['date'], yearfirst=True)\n",
    "data['cpu'] = data['cpu'].str.replace('%', '').astype(float)\n",
    "data.head()"
   ]
  },
  {
   "cell_type": "code",
   "execution_count": 4,
   "metadata": {},
   "outputs": [
    {
     "name": "stderr",
     "output_type": "stream",
     "text": [
      "/usr/local/lib/python3.5/dist-packages/pandas/plotting/_converter.py:129: FutureWarning: Using an implicitly registered datetime converter for a matplotlib plotting method. The converter was registered by pandas on import. Future versions of pandas will require you to explicitly register matplotlib converters.\n",
      "\n",
      "To register the converters:\n",
      "\t>>> from pandas.plotting import register_matplotlib_converters\n",
      "\t>>> register_matplotlib_converters()\n",
      "  warnings.warn(msg, FutureWarning)\n"
     ]
    },
    {
     "data": {
      "image/png": "[encoded data removed]",
      "text/plain": [
       "<Figure size 1152x360 with 1 Axes>"
      ]
     },
     "metadata": {
      "needs_background": "light"
     },
     "output_type": "display_data"
    }
   ],
   "source": [
    "plt.figure(figsize=(16,5))\n",
    "\n",
    "plt.plot(data['date'], data['cpu'])\n",
    "\n",
    "plt.ylim([0, 100])\n",
    "plt.legend()\n",
    "plt.title(\"CPU usage (%)\")\n",
    "plt.show()"
   ]
  },
  {
   "cell_type": "markdown",
   "metadata": {},
   "source": [
    "#### Proccesses"
   ]
  },
  {
   "cell_type": "code",
   "execution_count": 5,
   "metadata": {
    "scrolled": true
   },
   "outputs": [
    {
     "data": {
      "text/html": [
       "<div>\n",
       "<style scoped>\n",
       "    .dataframe tbody tr th:only-of-type {\n",
       "        vertical-align: middle;\n",
       "    }\n",
       "\n",
       "    .dataframe tbody tr th {\n",
       "        vertical-align: top;\n",
       "    }\n",
       "\n",
       "    .dataframe thead th {\n",
       "        text-align: right;\n",
       "    }\n",
       "</style>\n",
       "<table border=\"1\" class=\"dataframe\">\n",
       "  <thead>\n",
       "    <tr style=\"text-align: right;\">\n",
       "      <th></th>\n",
       "      <th>date</th>\n",
       "      <th>user</th>\n",
       "      <th>cpu</th>\n",
       "      <th>command</th>\n",
       "    </tr>\n",
       "  </thead>\n",
       "  <tbody>\n",
       "    <tr>\n",
       "      <th>0</th>\n",
       "      <td>2019-07-03 15:50:01</td>\n",
       "      <td>root</td>\n",
       "      <td>2.0</td>\n",
       "      <td>[kswapd0]</td>\n",
       "    </tr>\n",
       "    <tr>\n",
       "      <th>1</th>\n",
       "      <td>2019-07-03 15:50:01</td>\n",
       "      <td>matterm+</td>\n",
       "      <td>0.9</td>\n",
       "      <td>/opt/mattermost/bin/mattermost</td>\n",
       "    </tr>\n",
       "    <tr>\n",
       "      <th>2</th>\n",
       "      <td>2019-07-03 15:50:01</td>\n",
       "      <td>root</td>\n",
       "      <td>0.5</td>\n",
       "      <td>/usr/sbin/samhain</td>\n",
       "    </tr>\n",
       "    <tr>\n",
       "      <th>3</th>\n",
       "      <td>2019-07-03 15:50:01</td>\n",
       "      <td>root</td>\n",
       "      <td>0.3</td>\n",
       "      <td>/usr/bin/gcsfuse --foreground -o rw -o allow_o...</td>\n",
       "    </tr>\n",
       "    <tr>\n",
       "      <th>4</th>\n",
       "      <td>2019-07-03 16:00:02</td>\n",
       "      <td>root</td>\n",
       "      <td>1.9</td>\n",
       "      <td>[kswapd0]</td>\n",
       "    </tr>\n",
       "  </tbody>\n",
       "</table>\n",
       "</div>"
      ],
      "text/plain": [
       "                 date      user  cpu  \\\n",
       "0 2019-07-03 15:50:01      root  2.0   \n",
       "1 2019-07-03 15:50:01  matterm+  0.9   \n",
       "2 2019-07-03 15:50:01      root  0.5   \n",
       "3 2019-07-03 15:50:01      root  0.3   \n",
       "4 2019-07-03 16:00:02      root  1.9   \n",
       "\n",
       "                                             command  \n",
       "0                                          [kswapd0]  \n",
       "1                     /opt/mattermost/bin/mattermost  \n",
       "2                                  /usr/sbin/samhain  \n",
       "3  /usr/bin/gcsfuse --foreground -o rw -o allow_o...  \n",
       "4                                          [kswapd0]  "
      ]
     },
     "execution_count": 5,
     "metadata": {},
     "output_type": "execute_result"
    }
   ],
   "source": [
    "procs = []\n",
    "for i,r in data.iterrows():\n",
    "    for p in r['top_proc']:\n",
    "        p['date'] = r['date']\n",
    "        procs += [ p ]\n",
    "procs = pd.DataFrame(procs)[['date', 'user', 'cpu', 'command']]\n",
    "procs['cpu'] = procs['cpu'].astype(float)\n",
    "\n",
    "procs.head()\n"
   ]
  },
  {
   "cell_type": "code",
   "execution_count": 6,
   "metadata": {},
   "outputs": [
    {
     "data": {
      "image/png": "[encoded data removed]",
      "text/plain": [
       "<Figure size 432x288 with 1 Axes>"
      ]
     },
     "metadata": {
      "needs_background": "light"
     },
     "output_type": "display_data"
    }
   ],
   "source": [
    "user_sums = procs.groupby('user')['cpu'].sum().sort_values()\n",
    "\n",
    "plt.bar(user_sums.index, user_sums)\n",
    "plt.show()"
   ]
  },
  {
   "cell_type": "code",
   "execution_count": 8,
   "metadata": {},
   "outputs": [
    {
     "data": {
      "image/png": "[encoded data removed]",
      "text/plain": [
       "<Figure size 432x288 with 1 Axes>"
      ]
     },
     "metadata": {
      "needs_background": "light"
     },
     "output_type": "display_data"
    }
   ],
   "source": [
    "command_sums = procs.groupby('command')['cpu'].sum().sort_values().head(10)\n",
    "plt.bar(command_sums.index, command_sums)\n",
    "plt.xticks(rotation=90)\n",
    "plt.show()"
   ]
  },
  {
   "cell_type": "markdown",
   "metadata": {},
   "source": [
    "#### MySQL Queries"
   ]
  },
  {
   "cell_type": "code",
   "execution_count": 89,
   "metadata": {},
   "outputs": [
    {
     "data": {
      "text/html": [
       "<div>\n",
       "<style scoped>\n",
       "    .dataframe tbody tr th:only-of-type {\n",
       "        vertical-align: middle;\n",
       "    }\n",
       "\n",
       "    .dataframe tbody tr th {\n",
       "        vertical-align: top;\n",
       "    }\n",
       "\n",
       "    .dataframe thead th {\n",
       "        text-align: right;\n",
       "    }\n",
       "</style>\n",
       "<table border=\"1\" class=\"dataframe\">\n",
       "  <thead>\n",
       "    <tr style=\"text-align: right;\">\n",
       "      <th></th>\n",
       "      <th>date</th>\n",
       "      <th>query</th>\n",
       "      <th>time</th>\n",
       "      <th>user</th>\n",
       "    </tr>\n",
       "  </thead>\n",
       "  <tbody>\n",
       "    <tr>\n",
       "      <th>13</th>\n",
       "      <td>2019-07-06 23:50:02</td>\n",
       "      <td>SELECT /*!40001 SQL_NO_CACHE */ * FROM `stores...</td>\n",
       "      <td>164</td>\n",
       "      <td>advan</td>\n",
       "    </tr>\n",
       "    <tr>\n",
       "      <th>14</th>\n",
       "      <td>2019-07-07 23:50:02</td>\n",
       "      <td>SELECT /*!40001 SQL_NO_CACHE */ * FROM `stores...</td>\n",
       "      <td>150</td>\n",
       "      <td>advan</td>\n",
       "    </tr>\n",
       "    <tr>\n",
       "      <th>0</th>\n",
       "      <td>2019-07-01 23:50:03</td>\n",
       "      <td>SELECT /*!40001 SQL_NO_CACHE */ * FROM `stores...</td>\n",
       "      <td>113</td>\n",
       "      <td>advan</td>\n",
       "    </tr>\n",
       "    <tr>\n",
       "      <th>4</th>\n",
       "      <td>2019-07-03 23:50:01</td>\n",
       "      <td>SELECT /*!40001 SQL_NO_CACHE */ * FROM `stores...</td>\n",
       "      <td>55</td>\n",
       "      <td>advan</td>\n",
       "    </tr>\n",
       "  </tbody>\n",
       "</table>\n",
       "</div>"
      ],
      "text/plain": [
       "                  date                                              query  \\\n",
       "13 2019-07-06 23:50:02  SELECT /*!40001 SQL_NO_CACHE */ * FROM `stores...   \n",
       "14 2019-07-07 23:50:02  SELECT /*!40001 SQL_NO_CACHE */ * FROM `stores...   \n",
       "0  2019-07-01 23:50:03  SELECT /*!40001 SQL_NO_CACHE */ * FROM `stores...   \n",
       "4  2019-07-03 23:50:01  SELECT /*!40001 SQL_NO_CACHE */ * FROM `stores...   \n",
       "\n",
       "    time   user  \n",
       "13   164  advan  \n",
       "14   150  advan  \n",
       "0    113  advan  \n",
       "4     55  advan  "
      ]
     },
     "metadata": {},
     "output_type": "display_data"
    }
   ],
   "source": [
    "quers = []\n",
    "\n",
    "for j,r in data.iterrows():\n",
    "    for q in r['queries']:\n",
    "        q['date'] = r['date']\n",
    "        quers += [ q ]\n",
    "quers = pd.DataFrame(quers)[['date', 'query', 'time', 'user']]\n",
    "quers['time'] = quers['time'].astype(int)\n",
    "\n",
    "display(quers[quers['time'] > 20].sort_values('time', ascending=False))"
   ]
  },
  {
   "cell_type": "code",
   "execution_count": null,
   "metadata": {},
   "outputs": [],
   "source": [
    "query_time = quers.groupby('query')['time'].max().sort_values().head(10)\n",
    "\n",
    "#query_time =  quers.sort_values('time', ascending=False)\n",
    "\n",
    "plt.bar(query_time.index, query_time)\n",
    "plt.xticks(rotation=90)\n",
    "plt.show()"
   ]
  },
  {
   "cell_type": "code",
   "execution_count": null,
   "metadata": {
    "collapsed": true
   },
   "outputs": [],
   "source": []
  }
 ],
 "metadata": {
  "kernelspec": {
   "display_name": "Python 3",
   "language": "python",
   "name": "python3"
  },
  "language_info": {
   "codemirror_mode": {
    "name": "ipython",
    "version": 3
   },
   "file_extension": ".py",
   "mimetype": "text/x-python",
   "name": "python",
   "nbconvert_exporter": "python",
   "pygments_lexer": "ipython3",
   "version": "3.8.5"
  }
 },
 "nbformat": 4,
 "nbformat_minor": 2
}
